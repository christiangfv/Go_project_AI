{
 "cells": [
  {
   "cell_type": "code",
   "execution_count": 74,
   "metadata": {},
   "outputs": [],
   "source": [
    "import tensorflow as tf\n",
    "\n",
    "from tensorflow.keras import datasets, layers, models\n",
    "import tensorflow.keras.backend as k\n",
    "import matplotlib.pyplot as plt"
   ]
  },
  {
   "cell_type": "code",
   "execution_count": 75,
   "metadata": {},
   "outputs": [],
   "source": [
    "import pandas as pd\n",
    "import numpy as np\n",
    "\n",
    "df = pd.read_csv('dataset.csv')\n",
    "df_f = df"
   ]
  },
  {
   "cell_type": "code",
   "execution_count": 76,
   "metadata": {},
   "outputs": [
    {
     "name": "stderr",
     "output_type": "stream",
     "text": [
      "<ipython-input-76-a6c696fc89a7>:3: SettingWithCopyWarning: \n",
      "A value is trying to be set on a copy of a slice from a DataFrame\n",
      "\n",
      "See the caveats in the documentation: https://pandas.pydata.org/pandas-docs/stable/user_guide/indexing.html#returning-a-view-versus-a-copy\n",
      "  df_f['tablero'][count] = np.fromstring(i, dtype=\"float64\", sep=' ')\n"
     ]
    },
    {
     "data": {
      "text/html": [
       "<div>\n",
       "<style scoped>\n",
       "    .dataframe tbody tr th:only-of-type {\n",
       "        vertical-align: middle;\n",
       "    }\n",
       "\n",
       "    .dataframe tbody tr th {\n",
       "        vertical-align: top;\n",
       "    }\n",
       "\n",
       "    .dataframe thead th {\n",
       "        text-align: right;\n",
       "    }\n",
       "</style>\n",
       "<table border=\"1\" class=\"dataframe\">\n",
       "  <thead>\n",
       "    <tr style=\"text-align: right;\">\n",
       "      <th></th>\n",
       "      <th>resultado</th>\n",
       "      <th>tablero</th>\n",
       "    </tr>\n",
       "  </thead>\n",
       "  <tbody>\n",
       "    <tr>\n",
       "      <th>0</th>\n",
       "      <td>1</td>\n",
       "      <td>[-1.0, -1.0, 0.0, -1.0, -1.0, 1.0, 0.0, 1.0, -...</td>\n",
       "    </tr>\n",
       "    <tr>\n",
       "      <th>1</th>\n",
       "      <td>0</td>\n",
       "      <td>[1.0, -1.0, 0.0, -1.0, 0.0, -1.0, -1.0, 1.0, -...</td>\n",
       "    </tr>\n",
       "    <tr>\n",
       "      <th>2</th>\n",
       "      <td>1</td>\n",
       "      <td>[1.0, 0.0, 1.0, 1.0, -1.0, 0.0, 1.0, -1.0, 1.0...</td>\n",
       "    </tr>\n",
       "    <tr>\n",
       "      <th>3</th>\n",
       "      <td>0</td>\n",
       "      <td>[0.0, -1.0, 0.0, -1.0, -1.0, 1.0, 1.0, 0.0, -1...</td>\n",
       "    </tr>\n",
       "    <tr>\n",
       "      <th>4</th>\n",
       "      <td>0</td>\n",
       "      <td>[1.0, 1.0, -1.0, -1.0, -1.0, 0.0, 1.0, -1.0, 1...</td>\n",
       "    </tr>\n",
       "    <tr>\n",
       "      <th>5</th>\n",
       "      <td>0</td>\n",
       "      <td>[1.0, 0.0, 1.0, 1.0, -1.0, 1.0, 1.0, 1.0, 0.0,...</td>\n",
       "    </tr>\n",
       "    <tr>\n",
       "      <th>6</th>\n",
       "      <td>0</td>\n",
       "      <td>[1.0, 1.0, 1.0, 1.0, 0.0, -1.0, -1.0, -1.0, 1....</td>\n",
       "    </tr>\n",
       "    <tr>\n",
       "      <th>7</th>\n",
       "      <td>1</td>\n",
       "      <td>[1.0, 1.0, 1.0, -1.0, 1.0, 0.0, 1.0, 0.0, -1.0...</td>\n",
       "    </tr>\n",
       "    <tr>\n",
       "      <th>8</th>\n",
       "      <td>0</td>\n",
       "      <td>[0.0, -1.0, 0.0, -1.0, 0.0, 1.0, 0.0, 0.0, 1.0...</td>\n",
       "    </tr>\n",
       "    <tr>\n",
       "      <th>9</th>\n",
       "      <td>0</td>\n",
       "      <td>[0.0, 0.0, -1.0, 1.0, 0.0, 1.0, 1.0, 0.0, 0.0,...</td>\n",
       "    </tr>\n",
       "  </tbody>\n",
       "</table>\n",
       "</div>"
      ],
      "text/plain": [
       "   resultado                                            tablero\n",
       "0          1  [-1.0, -1.0, 0.0, -1.0, -1.0, 1.0, 0.0, 1.0, -...\n",
       "1          0  [1.0, -1.0, 0.0, -1.0, 0.0, -1.0, -1.0, 1.0, -...\n",
       "2          1  [1.0, 0.0, 1.0, 1.0, -1.0, 0.0, 1.0, -1.0, 1.0...\n",
       "3          0  [0.0, -1.0, 0.0, -1.0, -1.0, 1.0, 1.0, 0.0, -1...\n",
       "4          0  [1.0, 1.0, -1.0, -1.0, -1.0, 0.0, 1.0, -1.0, 1...\n",
       "5          0  [1.0, 0.0, 1.0, 1.0, -1.0, 1.0, 1.0, 1.0, 0.0,...\n",
       "6          0  [1.0, 1.0, 1.0, 1.0, 0.0, -1.0, -1.0, -1.0, 1....\n",
       "7          1  [1.0, 1.0, 1.0, -1.0, 1.0, 0.0, 1.0, 0.0, -1.0...\n",
       "8          0  [0.0, -1.0, 0.0, -1.0, 0.0, 1.0, 0.0, 0.0, 1.0...\n",
       "9          0  [0.0, 0.0, -1.0, 1.0, 0.0, 1.0, 1.0, 0.0, 0.0,..."
      ]
     },
     "execution_count": 76,
     "metadata": {},
     "output_type": "execute_result"
    }
   ],
   "source": [
    "count = 0\n",
    "for i in df['tablero'].values:\n",
    "    df_f['tablero'][count] = np.fromstring(i, dtype=\"float64\", sep=' ')\n",
    "    \n",
    "\n",
    "    count+=1\n",
    "df_f"
   ]
  },
  {
   "cell_type": "code",
   "execution_count": 86,
   "metadata": {},
   "outputs": [],
   "source": [
    "model = models.Sequential()\n",
    "#model.add(layers.Conv1D(32, (3, 3), activation='relu', input_shape=(32, 32, 3)))\n",
    "#model.add(layers.MaxPooling1D((2, 2)))\n",
    "model.add(layers.Dense(128, activation='relu'))\n",
    "model.add(layers.Dense(3, activation='softmax'))\n",
    "model.compile(optimizer='adam', loss=tf.keras.losses.SparseCategoricalCrossentropy(from_logits=True))"
   ]
  },
  {
   "cell_type": "code",
   "execution_count": 87,
   "metadata": {},
   "outputs": [
    {
     "data": {
      "text/html": [
       "<div>\n",
       "<style scoped>\n",
       "    .dataframe tbody tr th:only-of-type {\n",
       "        vertical-align: middle;\n",
       "    }\n",
       "\n",
       "    .dataframe tbody tr th {\n",
       "        vertical-align: top;\n",
       "    }\n",
       "\n",
       "    .dataframe thead th {\n",
       "        text-align: right;\n",
       "    }\n",
       "</style>\n",
       "<table border=\"1\" class=\"dataframe\">\n",
       "  <thead>\n",
       "    <tr style=\"text-align: right;\">\n",
       "      <th></th>\n",
       "      <th>resultado</th>\n",
       "      <th>tablero</th>\n",
       "    </tr>\n",
       "  </thead>\n",
       "  <tbody>\n",
       "    <tr>\n",
       "      <th>0</th>\n",
       "      <td>1</td>\n",
       "      <td>[-1.0, -1.0, 0.0, -1.0, -1.0, 1.0, 0.0, 1.0, -...</td>\n",
       "    </tr>\n",
       "    <tr>\n",
       "      <th>1</th>\n",
       "      <td>0</td>\n",
       "      <td>[1.0, -1.0, 0.0, -1.0, 0.0, -1.0, -1.0, 1.0, -...</td>\n",
       "    </tr>\n",
       "    <tr>\n",
       "      <th>2</th>\n",
       "      <td>1</td>\n",
       "      <td>[1.0, 0.0, 1.0, 1.0, -1.0, 0.0, 1.0, -1.0, 1.0...</td>\n",
       "    </tr>\n",
       "    <tr>\n",
       "      <th>3</th>\n",
       "      <td>0</td>\n",
       "      <td>[0.0, -1.0, 0.0, -1.0, -1.0, 1.0, 1.0, 0.0, -1...</td>\n",
       "    </tr>\n",
       "    <tr>\n",
       "      <th>4</th>\n",
       "      <td>0</td>\n",
       "      <td>[1.0, 1.0, -1.0, -1.0, -1.0, 0.0, 1.0, -1.0, 1...</td>\n",
       "    </tr>\n",
       "    <tr>\n",
       "      <th>5</th>\n",
       "      <td>0</td>\n",
       "      <td>[1.0, 0.0, 1.0, 1.0, -1.0, 1.0, 1.0, 1.0, 0.0,...</td>\n",
       "    </tr>\n",
       "    <tr>\n",
       "      <th>6</th>\n",
       "      <td>0</td>\n",
       "      <td>[1.0, 1.0, 1.0, 1.0, 0.0, -1.0, -1.0, -1.0, 1....</td>\n",
       "    </tr>\n",
       "    <tr>\n",
       "      <th>7</th>\n",
       "      <td>1</td>\n",
       "      <td>[1.0, 1.0, 1.0, -1.0, 1.0, 0.0, 1.0, 0.0, -1.0...</td>\n",
       "    </tr>\n",
       "    <tr>\n",
       "      <th>8</th>\n",
       "      <td>0</td>\n",
       "      <td>[0.0, -1.0, 0.0, -1.0, 0.0, 1.0, 0.0, 0.0, 1.0...</td>\n",
       "    </tr>\n",
       "    <tr>\n",
       "      <th>9</th>\n",
       "      <td>0</td>\n",
       "      <td>[0.0, 0.0, -1.0, 1.0, 0.0, 1.0, 1.0, 0.0, 0.0,...</td>\n",
       "    </tr>\n",
       "  </tbody>\n",
       "</table>\n",
       "</div>"
      ],
      "text/plain": [
       "   resultado                                            tablero\n",
       "0          1  [-1.0, -1.0, 0.0, -1.0, -1.0, 1.0, 0.0, 1.0, -...\n",
       "1          0  [1.0, -1.0, 0.0, -1.0, 0.0, -1.0, -1.0, 1.0, -...\n",
       "2          1  [1.0, 0.0, 1.0, 1.0, -1.0, 0.0, 1.0, -1.0, 1.0...\n",
       "3          0  [0.0, -1.0, 0.0, -1.0, -1.0, 1.0, 1.0, 0.0, -1...\n",
       "4          0  [1.0, 1.0, -1.0, -1.0, -1.0, 0.0, 1.0, -1.0, 1...\n",
       "5          0  [1.0, 0.0, 1.0, 1.0, -1.0, 1.0, 1.0, 1.0, 0.0,...\n",
       "6          0  [1.0, 1.0, 1.0, 1.0, 0.0, -1.0, -1.0, -1.0, 1....\n",
       "7          1  [1.0, 1.0, 1.0, -1.0, 1.0, 0.0, 1.0, 0.0, -1.0...\n",
       "8          0  [0.0, -1.0, 0.0, -1.0, 0.0, 1.0, 0.0, 0.0, 1.0...\n",
       "9          0  [0.0, 0.0, -1.0, 1.0, 0.0, 1.0, 1.0, 0.0, 0.0,..."
      ]
     },
     "execution_count": 87,
     "metadata": {},
     "output_type": "execute_result"
    }
   ],
   "source": [
    "df_f"
   ]
  },
  {
   "cell_type": "code",
   "execution_count": 88,
   "metadata": {
    "scrolled": false
   },
   "outputs": [
    {
     "name": "stdout",
     "output_type": "stream",
     "text": [
      "<class 'numpy.ndarray'>\n",
      "[array([-1., -1.,  0., -1., -1.,  1.,  0.,  1., -1., -1.,  1., -1., -1.,\n",
      "       -1.,  1., -1., -1.,  0., -1.,  0., -1.,  1., -1., -1., -1., -1.,\n",
      "       -1.,  1.,  1.,  1.,  1.,  1.,  1.,  1.,  1.,  0.,  0.,  1.,  1.,\n",
      "       -1.,  0.,  1.,  0.,  0.,  1.,  0.,  1.,  1.,  0.]), array([ 1., -1.,  0., -1.,  0., -1., -1.,  1., -1.,  1.,  1., -1.,  0.,\n",
      "       -1.,  0., -1.,  1.,  1., -1., -1.,  0.,  1., -1.,  1.,  0.,  1.,\n",
      "       -1., -1., -1., -1., -1.,  1.,  1., -1.,  0.,  1.,  0., -1.,  1.,\n",
      "        1.,  1., -1.,  0.,  1., -1.,  1.,  0.,  1.,  0.]), array([ 1.,  0.,  1.,  1., -1.,  0.,  1., -1.,  1.,  1.,  1., -1.,  1.,\n",
      "        1.,  0.,  0.,  1.,  1.,  1.,  0.,  1.,  0.,  0.,  1.,  1.,  1.,\n",
      "        1.,  1.,  1.,  1.,  0.,  1.,  1., -1., -1.,  1.,  1.,  1., -1.,\n",
      "       -1.,  0., -1.,  0., -1., -1.,  0., -1., -1.,  0.]), array([ 0., -1.,  0., -1., -1.,  1.,  1.,  0., -1., -1., -1., -1., -1.,\n",
      "        1.,  0., -1.,  0., -1.,  0., -1.,  1., -1.,  1., -1., -1., -1.,\n",
      "        0.,  1.,  1.,  1., -1., -1., -1., -1.,  1.,  1.,  0.,  1., -1.,\n",
      "        1., -1.,  1.,  0.,  1.,  1.,  1.,  1.,  1.,  0.]), array([ 1.,  1., -1., -1., -1.,  0.,  1., -1.,  1., -1.,  0., -1., -1.,\n",
      "       -1.,  0.,  1.,  1., -1., -1., -1.,  0., -1., -1., -1.,  0., -1.,\n",
      "        0., -1., -1.,  0., -1., -1.,  1., -1.,  1., -1., -1.,  1.,  1.,\n",
      "        1.,  1.,  1., -1., -1.,  1.,  0.,  0.,  1.,  0.]), array([ 1.,  0.,  1.,  1., -1.,  1.,  1.,  1.,  0.,  1., -1., -1.,  0.,\n",
      "       -1.,  0.,  1.,  0.,  1.,  0., -1.,  0.,  1.,  1.,  1.,  1.,  0.,\n",
      "       -1., -1., -1.,  1.,  1.,  1.,  1., -1.,  0.,  0., -1.,  0., -1.,\n",
      "        0., -1., -1., -1.,  0., -1., -1., -1.,  0.,  0.]), array([ 1.,  1.,  1.,  1.,  0., -1., -1., -1.,  1.,  0.,  1., -1.,  0.,\n",
      "       -1.,  0., -1.,  1., -1.,  0., -1.,  0., -1., -1., -1.,  0.,  0.,\n",
      "       -1., -1., -1.,  1.,  1., -1., -1.,  1.,  1., -1.,  1.,  1.,  1.,\n",
      "        0.,  1.,  0., -1.,  1., -1., -1., -1.,  1.,  0.]), array([ 1.,  1.,  1., -1.,  1.,  0.,  1.,  0., -1.,  1., -1.,  1.,  1.,\n",
      "        1.,  1.,  1., -1., -1.,  1.,  0.,  0., -1., -1., -1.,  0., -1.,\n",
      "        1.,  1., -1.,  0.,  1., -1.,  0., -1.,  1.,  1.,  1., -1.,  0.,\n",
      "       -1.,  0.,  1., -1.,  0., -1., -1.,  1.,  1.,  0.]), array([ 0., -1.,  0., -1.,  0.,  1.,  0.,  0.,  1.,  0.,  1., -1.,  0.,\n",
      "        1.,  1.,  1.,  1.,  1.,  1., -1.,  0.,  1.,  0.,  0.,  0.,  1.,\n",
      "       -1.,  1.,  1., -1.,  1.,  0.,  0., -1., -1.,  0.,  0.,  0.,  1.,\n",
      "       -1.,  0., -1., -1., -1., -1.,  0., -1.,  0.,  0.]), array([ 0.,  0., -1.,  1.,  0.,  1.,  1.,  0.,  0.,  0., -1.,  1.,  0.,\n",
      "        1., -1., -1., -1.,  1.,  1.,  1.,  1.,  1., -1., -1.,  1.,  1.,\n",
      "       -1., -1.,  0., -1.,  1.,  1., -1.,  0., -1.,  1., -1., -1., -1.,\n",
      "        0., -1.,  1.,  1.,  1.,  1., -1., -1., -1.,  0.])]\n",
      "1/1 [==============================] - 1s 501ms/step - loss: 1.3916\n"
     ]
    }
   ],
   "source": [
    "print(type(df_f['tablero'].values))\n",
    "\n",
    "#print(pd.array(df_f['tablero'].values, dtype='Int32'))\n",
    "\n",
    "print((df_f['tablero'].tolist()))\n",
    "\n",
    "#table_train =  np.asarray(df_f['tablero'].to_numpy().tolist())\n",
    "\n",
    "table_train = tf.convert_to_tensor(df_f['tablero'].tolist())\n",
    "res_train = tf.convert_to_tensor(df_f['resultado'].tolist())\n",
    "\n",
    "\n",
    "#table_train = np.asarray(df_f['tablero'].values).astype(np.float32)\n",
    "#res_train = np.asarray(df_f[\"resultado\"].values).astype(np.float32)\n",
    "history = model.fit(table_train, res_train)"
   ]
  },
  {
   "cell_type": "code",
   "execution_count": 89,
   "metadata": {},
   "outputs": [
    {
     "name": "stdout",
     "output_type": "stream",
     "text": [
      "Model: \"sequential_5\"\n",
      "_________________________________________________________________\n",
      "Layer (type)                 Output Shape              Param #   \n",
      "=================================================================\n",
      "dense_8 (Dense)              (None, 128)               6400      \n",
      "_________________________________________________________________\n",
      "dense_9 (Dense)              (None, 3)                 387       \n",
      "=================================================================\n",
      "Total params: 6,787\n",
      "Trainable params: 6,787\n",
      "Non-trainable params: 0\n",
      "_________________________________________________________________\n"
     ]
    }
   ],
   "source": [
    "model.summary()\n"
   ]
  },
  {
   "cell_type": "code",
   "execution_count": 110,
   "metadata": {
    "scrolled": false
   },
   "outputs": [
    {
     "name": "stdout",
     "output_type": "stream",
     "text": [
      "[-1. -1.  0. -1. -1.  1.  0.  1. -1. -1.  1. -1. -1. -1.  1. -1. -1.  0.\n",
      " -1.  0. -1.  1. -1. -1. -1. -1. -1.  1.  1.  1.  1.  1.  1.  1.  1.  0.\n",
      "  0.  1.  1. -1.  0.  1.  0.  0.  1.  0.  1.  1.  0.]\n"
     ]
    }
   ],
   "source": [
    "print(np.array(df_f['tablero'].tolist()[0], dtype=\"float64\"))\n",
    "\n",
    "predict = model.predict(tf.convert_to_tensor(df_f['tablero'].tolist()))#.to_numpy()[0].reshape((-1, 49)))"
   ]
  },
  {
   "cell_type": "code",
   "execution_count": 111,
   "metadata": {},
   "outputs": [
    {
     "data": {
      "text/plain": [
       "array([[0.5536078 , 0.09275825, 0.35363397],\n",
       "       [0.22982816, 0.14988633, 0.62028545],\n",
       "       [0.6586812 , 0.12373815, 0.21758068],\n",
       "       [0.59420973, 0.11546445, 0.2903258 ],\n",
       "       [0.39269084, 0.1161841 , 0.49112502],\n",
       "       [0.22421391, 0.36530536, 0.41048077],\n",
       "       [0.28808048, 0.14255944, 0.56936   ],\n",
       "       [0.43287954, 0.38972792, 0.17739251],\n",
       "       [0.64126384, 0.12196564, 0.23677057],\n",
       "       [0.31733152, 0.31482083, 0.3678477 ]], dtype=float32)"
      ]
     },
     "execution_count": 111,
     "metadata": {},
     "output_type": "execute_result"
    }
   ],
   "source": [
    "predict"
   ]
  },
  {
   "cell_type": "code",
   "execution_count": null,
   "metadata": {},
   "outputs": [],
   "source": []
  }
 ],
 "metadata": {
  "kernelspec": {
   "display_name": "Python 3",
   "language": "python",
   "name": "python3"
  },
  "language_info": {
   "codemirror_mode": {
    "name": "ipython",
    "version": 3
   },
   "file_extension": ".py",
   "mimetype": "text/x-python",
   "name": "python",
   "nbconvert_exporter": "python",
   "pygments_lexer": "ipython3",
   "version": "3.8.5"
  }
 },
 "nbformat": 4,
 "nbformat_minor": 2
}
